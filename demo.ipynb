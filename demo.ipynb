{
 "cells": [
  {
   "cell_type": "markdown",
   "metadata": {},
   "source": [
    "This notebook shows how to load samples from PASTIS using the dataloaders provided in the repository.\n"
   ]
  },
  {
   "cell_type": "code",
   "execution_count": 1,
   "metadata": {},
   "outputs": [],
   "source": [
    "# Fill these file paths with the locations on your machine.\n",
    "PATH_TO_CODE = \"/Users/louis.stefanuto.c/Documents/pastis-benchmark-mines2024/src/\"  # path to the code folder of the repo\n",
    "PATH_TO_PASTIS = (\n",
    "    \"/Users/louis.stefanuto.c/Documents/pastis-benchmark-mines2024/PASTIS-mini/\"\n",
    ")\n",
    "# PATH_TO_PASTISR = '/path/PASTIS-R'\n",
    "# PATH_TO_PASTISR_pixel = '/path/PASTIS-R_PixelSet/'\n",
    "\n",
    "\n",
    "import sys\n",
    "\n",
    "sys.path.append(PATH_TO_CODE)\n",
    "\n",
    "\n",
    "import torch\n",
    "import numpy as np\n",
    "import matplotlib.pyplot as plt\n",
    "from matplotlib.colors import ListedColormap\n",
    "import matplotlib\n",
    "\n",
    "cm = matplotlib.colormaps.get_cmap(\"tab20\")\n",
    "def_colors = cm.colors\n",
    "cus_colors = [\"k\"] + [def_colors[i] for i in range(1, 20)] + [\"w\"]\n",
    "cmap = ListedColormap(colors=cus_colors, name=\"agri\", N=21)\n",
    "\n",
    "\n",
    "def get_rgb(x, batch_index=0, t_show=1):\n",
    "    \"\"\"Utility function to get a displayable rgb image\n",
    "    from a Sentinel-2 time series.\n",
    "    \"\"\"\n",
    "    im = x[\"S2\"][batch_index, t_show, [2, 1, 0]].cpu().numpy()\n",
    "    mx = im.max(axis=(1, 2))\n",
    "    mi = im.min(axis=(1, 2))\n",
    "    im = (im - mi[:, None, None]) / (mx - mi)[:, None, None]\n",
    "    im = im.swapaxes(0, 2).swapaxes(0, 1)\n",
    "    im = np.clip(im, a_max=1, a_min=0)\n",
    "    return im\n",
    "\n",
    "\n",
    "def get_radar(x, batch_index=0, t_show=6, orbit=\"D\"):\n",
    "    \"\"\"Utility function to get a displayable image\n",
    "    from a Sentinel-1 time series.\n",
    "    \"\"\"\n",
    "    im = x[\"S1{}\".format(orbit)][batch_index, t_show].cpu().numpy()\n",
    "    mx = im.max(axis=(1, 2))\n",
    "    mi = im.min(axis=(1, 2))\n",
    "    im = (im - mi[:, None, None]) / (mx - mi)[:, None, None]\n",
    "    im = im.swapaxes(0, 2).swapaxes(0, 1)\n",
    "    im = np.clip(im, a_max=1, a_min=0)\n",
    "    return im"
   ]
  },
  {
   "cell_type": "markdown",
   "metadata": {},
   "source": [
    "# PASTIS\n"
   ]
  },
  {
   "cell_type": "code",
   "execution_count": null,
   "metadata": {},
   "outputs": [],
   "source": [
    "from src.dataloader import PASTIS_Dataset\n",
    "from src.collate import pad_collate\n",
    "\n",
    "dt = PASTIS_Dataset(PATH_TO_PASTIS, norm=True, target=\"instance\")\n",
    "# If you only need to evaluate semantic segmentation use target='semantic'\n",
    "\n",
    "dl = torch.utils.data.DataLoader(dt, batch_size=3, collate_fn=pad_collate, shuffle=True)"
   ]
  },
  {
   "cell_type": "code",
   "execution_count": null,
   "metadata": {},
   "outputs": [],
   "source": [
    "# Loading a batch from the dataloader\n",
    "(x, dates), y = dl.__iter__().__next__()\n",
    "\n",
    "# x is a dictionary thay contains the Sentinel-2 time series\n",
    "# in the 'S2' key, shape: B x T x C x H x W\n",
    "print(x[\"S2\"].shape)\n",
    "# dates contains the observation dates of each image, shape: B x T\n",
    "print(dates[\"S2\"].shape)\n",
    "# y contains the different ground truth annotations used for panoptic segmentation\n",
    "(\n",
    "    target_heatmap,\n",
    "    instance_ids,\n",
    "    pixel_to_instance_mapping,\n",
    "    instance_bbox_size,\n",
    "    object_semantic_annotation,\n",
    "    pixel_semantic_annotation,\n",
    ") = y.split((1, 1, 1, 2, 1, 1), dim=-1)"
   ]
  },
  {
   "cell_type": "code",
   "execution_count": 8,
   "metadata": {},
   "outputs": [],
   "source": [
    "# Loading a batch from the dataloader\n",
    "(x, dates), y = dl.__iter__().__next__()"
   ]
  },
  {
   "cell_type": "code",
   "execution_count": null,
   "metadata": {},
   "outputs": [],
   "source": [
    "bid = 0  # Which element of the batch to plot\n",
    "\n",
    "fix, axes = plt.subplots(1, 4, figsize=(20, 20))\n",
    "\n",
    "axes[0].imshow(get_rgb(x, batch_index=bid))\n",
    "axes[1].imshow(target_heatmap[bid].squeeze())\n",
    "axes[2].imshow(instance_ids[bid].squeeze(), cmap=\"prism\", alpha=0.6)\n",
    "axes[3].imshow(pixel_semantic_annotation[bid].squeeze(), cmap=cmap, vmin=0, vmax=20)\n",
    "\n",
    "axes[0].set_title(\"One S2 observation.\")\n",
    "axes[1].set_title(\"Centerness Ground Truth.\")\n",
    "axes[2].set_title(\"Instance masks.\")\n",
    "axes[3].set_title(\"Semantic labels.\")\n",
    "\n",
    "plt.show()"
   ]
  },
  {
   "cell_type": "markdown",
   "metadata": {},
   "source": [
    "# Custom Dataloader\n"
   ]
  },
  {
   "cell_type": "code",
   "execution_count": null,
   "metadata": {},
   "outputs": [],
   "source": [
    "from baseline_dataset import BaselineDataset\n",
    "from collate import pad_collate\n",
    "\n",
    "dt = BaselineDataset(PATH_TO_PASTIS)\n",
    "\n",
    "dl = torch.utils.data.DataLoader(\n",
    "    dt, batch_size=32, collate_fn=pad_collate, shuffle=True\n",
    ")"
   ]
  },
  {
   "cell_type": "code",
   "execution_count": 7,
   "metadata": {},
   "outputs": [],
   "source": [
    "x, y = dl.__iter__().__next__()"
   ]
  },
  {
   "cell_type": "code",
   "execution_count": null,
   "metadata": {},
   "outputs": [],
   "source": [
    "print(x[\"S2\"].shape)\n",
    "print(y.shape)"
   ]
  },
  {
   "cell_type": "code",
   "execution_count": null,
   "metadata": {},
   "outputs": [],
   "source": [
    "bid = 0  # Which element of the batch to plot\n",
    "\n",
    "fix, axes = plt.subplots(1, 2, figsize=(20, 20))\n",
    "\n",
    "axes[0].imshow(get_rgb(x, batch_index=bid))\n",
    "axes[1].imshow(y[bid].squeeze(), cmap=cmap, vmin=0, vmax=20)\n",
    "\n",
    "axes[0].set_title(\"One S2 observation.\")\n",
    "axes[1].set_title(\"Semantic labels.\")\n",
    "\n",
    "plt.show()"
   ]
  },
  {
   "cell_type": "markdown",
   "metadata": {},
   "source": [
    "# Metrics"
   ]
  },
  {
   "cell_type": "code",
   "execution_count": null,
   "metadata": {},
   "outputs": [],
   "source": [
    "from torchmetrics.segmentation import MeanIoU\n",
    "\n",
    "NUM_CLASSES = 3\n",
    "\n",
    "# Create two randoms matrices, one for the preds, one for the targets\n",
    "preds = torch.randint(0, NUM_CLASSES - 1, (10, NUM_CLASSES, 128, 128))\n",
    "target = torch.randint(0, NUM_CLASSES - 1, (10, NUM_CLASSES, 128, 128))\n",
    "\n",
    "miou = MeanIoU(num_classes=NUM_CLASSES)\n",
    "miou(preds, target)"
   ]
  },
  {
   "cell_type": "code",
   "execution_count": null,
   "metadata": {},
   "outputs": [],
   "source": []
  }
 ],
 "metadata": {
  "kernelspec": {
   "display_name": ".venv",
   "language": "python",
   "name": "python3"
  },
  "language_info": {
   "codemirror_mode": {
    "name": "ipython",
    "version": 3
   },
   "file_extension": ".py",
   "mimetype": "text/x-python",
   "name": "python",
   "nbconvert_exporter": "python",
   "pygments_lexer": "ipython3",
   "version": "3.12.4"
  },
  "toc": {
   "base_numbering": 1,
   "nav_menu": {},
   "number_sections": true,
   "sideBar": true,
   "skip_h1_title": false,
   "title_cell": "Table of Contents",
   "title_sidebar": "Contents",
   "toc_cell": false,
   "toc_position": {},
   "toc_section_display": true,
   "toc_window_display": false
  }
 },
 "nbformat": 4,
 "nbformat_minor": 4
}
