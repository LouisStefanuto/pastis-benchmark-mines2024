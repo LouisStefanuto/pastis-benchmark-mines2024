{
 "cells": [
  {
   "cell_type": "markdown",
   "metadata": {},
   "source": [
    "This notebook shows how to load samples from PASTIS using the dataloaders provided in the repository.\n"
   ]
  },
  {
   "cell_type": "code",
   "execution_count": null,
   "metadata": {},
   "outputs": [],
   "source": [
    "# Fill these file paths with the locations on your machine.\n",
    "PATH_TO_CODE = \"/Users/louis.stefanuto.c/Documents/pastis-benchmark-mines2024/src/\"  # path to the code folder of the repo\n",
    "PATH_TO_PASTIS = (\n",
    "    \"/Users/louis.stefanuto.c/Documents/pastis-benchmark-mines2024/PASTIS-mini/TRAIN\"\n",
    ")\n",
    "# PATH_TO_PASTISR = '/path/PASTIS-R'\n",
    "# PATH_TO_PASTISR_pixel = '/path/PASTIS-R_PixelSet/'\n",
    "\n",
    "\n",
    "import sys\n",
    "\n",
    "sys.path.append(PATH_TO_CODE)\n",
    "\n",
    "\n",
    "import torch\n",
    "import numpy as np\n",
    "import matplotlib.pyplot as plt\n",
    "from matplotlib.colors import ListedColormap\n",
    "import matplotlib\n",
    "\n",
    "cm = matplotlib.colormaps.get_cmap(\"tab20\")\n",
    "def_colors = cm.colors\n",
    "cus_colors = [\"k\"] + [def_colors[i] for i in range(1, 20)] + [\"w\"]\n",
    "cmap = ListedColormap(colors=cus_colors, name=\"agri\", N=21)\n",
    "\n",
    "\n",
    "def get_rgb(x, batch_index=0, t_show=1):\n",
    "    \"\"\"Utility function to get a displayable rgb image\n",
    "    from a Sentinel-2 time series.\n",
    "    \"\"\"\n",
    "    im = x[\"S2\"][batch_index, t_show, [2, 1, 0]].cpu().numpy()\n",
    "    mx = im.max(axis=(1, 2))\n",
    "    mi = im.min(axis=(1, 2))\n",
    "    im = (im - mi[:, None, None]) / (mx - mi)[:, None, None]\n",
    "    im = im.swapaxes(0, 2).swapaxes(0, 1)\n",
    "    im = np.clip(im, a_max=1, a_min=0)\n",
    "    return im\n",
    "\n",
    "\n",
    "def get_radar(x, batch_index=0, t_show=6, orbit=\"D\"):\n",
    "    \"\"\"Utility function to get a displayable image\n",
    "    from a Sentinel-1 time series.\n",
    "    \"\"\"\n",
    "    im = x[\"S1{}\".format(orbit)][batch_index, t_show].cpu().numpy()\n",
    "    mx = im.max(axis=(1, 2))\n",
    "    mi = im.min(axis=(1, 2))\n",
    "    im = (im - mi[:, None, None]) / (mx - mi)[:, None, None]\n",
    "    im = im.swapaxes(0, 2).swapaxes(0, 1)\n",
    "    im = np.clip(im, a_max=1, a_min=0)\n",
    "    return im"
   ]
  },
  {
   "cell_type": "markdown",
   "metadata": {},
   "source": [
    "# Custom Dataloader\n"
   ]
  },
  {
   "cell_type": "code",
   "execution_count": null,
   "metadata": {},
   "outputs": [],
   "source": [
    "from baseline_dataset import BaselineDataset\n",
    "from collate import pad_collate\n",
    "\n",
    "dt = BaselineDataset(PATH_TO_PASTIS)\n",
    "\n",
    "dl = torch.utils.data.DataLoader(\n",
    "    dt, batch_size=32, collate_fn=pad_collate, shuffle=True\n",
    ")"
   ]
  },
  {
   "cell_type": "code",
   "execution_count": null,
   "metadata": {},
   "outputs": [],
   "source": [
    "x, y = dl.__iter__().__next__()"
   ]
  },
  {
   "cell_type": "code",
   "execution_count": null,
   "metadata": {},
   "outputs": [],
   "source": [
    "print(x[\"S2\"].shape)\n",
    "print(y.shape)"
   ]
  },
  {
   "cell_type": "code",
   "execution_count": null,
   "metadata": {},
   "outputs": [],
   "source": [
    "bid = 0  # Which element of the batch to plot\n",
    "\n",
    "fix, axes = plt.subplots(1, 2, figsize=(20, 20))\n",
    "\n",
    "axes[0].imshow(get_rgb(x, batch_index=bid))\n",
    "axes[1].imshow(y[bid].squeeze(), cmap=cmap, vmin=0, vmax=20)\n",
    "\n",
    "axes[0].set_title(\"One S2 observation.\")\n",
    "axes[1].set_title(\"Semantic labels.\")\n",
    "\n",
    "plt.show()"
   ]
  },
  {
   "cell_type": "markdown",
   "metadata": {},
   "source": [
    "# Metrics\n"
   ]
  },
  {
   "cell_type": "code",
   "execution_count": null,
   "metadata": {},
   "outputs": [],
   "source": [
    "from torchmetrics.segmentation import MeanIoU\n",
    "\n",
    "NUM_CLASSES = 4\n",
    "BATCH_SHAPE = (3, 256, 256)\n",
    "\n",
    "# Create two randoms matrices, one for the preds, one for the targets\n",
    "preds = torch.randint(low=0, high=NUM_CLASSES - 1, size=BATCH_SHAPE, dtype=torch.int64)\n",
    "target = torch.randint(low=0, high=NUM_CLASSES - 1, size=BATCH_SHAPE, dtype=torch.int64)\n",
    "\n",
    "miou = MeanIoU(num_classes=NUM_CLASSES)\n",
    "miou(preds, target)"
   ]
  },
  {
   "cell_type": "markdown",
   "metadata": {},
   "source": [
    "# Submission\n",
    "\n",
    "This section shows you how to submit predictions on Kaggle.\n",
    "\n",
    "Your submission must be in the CSV format. It should have two columns:\n",
    "- **ID**: the ID of the image\n",
    "- **MASKS**: contains the 1D-flattened string conversion of the 2D segmentation masks\n",
    "\n",
    "To generate the `MASKS` column, we provide you a `masks_to_str` function. We also provide the decoding script so you have a plain understanding of how we will process your submission."
   ]
  },
  {
   "cell_type": "code",
   "execution_count": null,
   "metadata": {},
   "outputs": [],
   "source": [
    "import numpy as np\n",
    "import pandas as pd\n",
    "\n",
    "\n",
    "def masks_to_str(predictions: np.ndarray) -> list[str]:\n",
    "    \"\"\"\n",
    "    Convert the\n",
    "\n",
    "    Args:\n",
    "        predictions (np.ndarray): predictions as a 3D batch (B, H, W)\n",
    "\n",
    "    Returns:\n",
    "        list[str]: a list of B strings, each string is a flattened stringified prediction mask\n",
    "    \"\"\"\n",
    "    return [\" \".join(f\"{x}\" for x in np.ravel(x)) for x in predictions]\n",
    "\n",
    "\n",
    "def decode_masks(\n",
    "    masks: list[str],\n",
    "    target_shape: tuple[int, int] = (128, 128),\n",
    ") -> np.ndarray:\n",
    "    \"\"\"\n",
    "    Convert each string in masks back to a 1D list of integers.\n",
    "\n",
    "    Args:\n",
    "        masks (list[str]): list of stringified masks\n",
    "\n",
    "    Returns:\n",
    "        np.ndarray: reconstructed batch of masks\n",
    "    \"\"\"\n",
    "    return np.array(\n",
    "        [\n",
    "            np.fromstring(mask, sep=\" \", dtype=np.uint8).reshape(target_shape)\n",
    "            for mask in masks\n",
    "        ]\n",
    "    )"
   ]
  },
  {
   "cell_type": "markdown",
   "metadata": {},
   "source": [
    "- generate a random submission (and solution)\n",
    "\n",
    "To help you, here is a random submission generation."
   ]
  },
  {
   "cell_type": "code",
   "execution_count": null,
   "metadata": {},
   "outputs": [],
   "source": [
    "X = np.random.randint(0, NUM_CLASSES, size=(16, 128, 128), dtype=np.uint8)\n",
    "masks = masks_to_str(X)\n",
    "\n",
    "# Is in the public test set or in the private test set ?\n",
    "usages = [\"Public\"] * 10 + [\"Private\"] * (len(X) - 10)\n",
    "\n",
    "submission = pd.DataFrame.from_dict({\"ID\": range(len(X)), \"MASKS\": masks})\n",
    "solution = pd.DataFrame.from_dict(\n",
    "    {\"ID\": range(len(X)), \"Usage\": usages, \"MASKS\": masks}\n",
    ")\n",
    "\n",
    "# Note that the index=False argument is important.\n",
    "submission.to_csv(\"submission.csv\", index=False)\n",
    "solution.to_csv(\"solution.csv\", index=False)"
   ]
  },
  {
   "cell_type": "markdown",
   "metadata": {},
   "source": [
    "- decode\n",
    "\n",
    "This section shows you how our automatic evaluation pipeline reads your CSV to compute the mIOU."
   ]
  },
  {
   "cell_type": "code",
   "execution_count": null,
   "metadata": {},
   "outputs": [],
   "source": [
    "df = pd.read_csv(\"submission.csv\")\n",
    "\n",
    "# Verify the shape of the restored array\n",
    "X_restored = decode_masks(df[\"MASKS\"].to_list())\n",
    "print(X_restored.shape)"
   ]
  },
  {
   "cell_type": "code",
   "execution_count": null,
   "metadata": {},
   "outputs": [],
   "source": [
    "# Reconstruction test\n",
    "(X == X_restored).all()"
   ]
  },
  {
   "cell_type": "markdown",
   "metadata": {},
   "source": [
    "Let's compute the mIOU between the original prediction batch tensor and its restored version.\n",
    "\n",
    "If everything went well, the cell should return `1.0`."
   ]
  },
  {
   "cell_type": "code",
   "execution_count": null,
   "metadata": {},
   "outputs": [],
   "source": [
    "NUM_CLASSES = 3\n",
    "miou = MeanIoU(num_classes=NUM_CLASSES)\n",
    "\n",
    "A = torch.tensor(X, dtype=torch.int64)\n",
    "\n",
    "iou = miou(A, A)\n",
    "iou"
   ]
  },
  {
   "cell_type": "markdown",
   "metadata": {},
   "source": [
    "- The evaluation pipeline in Kaggle"
   ]
  },
  {
   "cell_type": "code",
   "execution_count": null,
   "metadata": {},
   "outputs": [],
   "source": [
    "\"\"\"\n",
    "TODO: Enter any documentation that only people updating the metric should read here.\n",
    "\n",
    "All columns of the solution and submission dataframes are passed to your metric, except for the Usage column.\n",
    "\n",
    "Your metric must satisfy the following constraints:\n",
    "- You must have a function named score. Kaggle's evaluation system will call that function.\n",
    "- You can add your own arguments to score, but you cannot change the first three (solution, submission, and row_id_column_name).\n",
    "- All arguments for score must have type annotations.\n",
    "- score must return a single, finite, non-null float.\n",
    "\"\"\"\n",
    "\n",
    "import numpy as np\n",
    "import pandas as pd\n",
    "import pandas.api.types\n",
    "import torch\n",
    "from torchmetrics.segmentation import MeanIoU\n",
    "\n",
    "\n",
    "class ParticipantVisibleError(Exception):\n",
    "    # If you want an error message to be shown to participants, you must raise the error as a ParticipantVisibleError\n",
    "    # All other errors will only be shown to the competition host. This helps prevent unintentional leakage of solution data.\n",
    "    pass\n",
    "\n",
    "\n",
    "def decode_masks(\n",
    "    masks: list[str],\n",
    "    target_shape: tuple[int, int] = (128, 128),\n",
    ") -> np.ndarray:\n",
    "    \"\"\"\n",
    "    Convert each string in masks back to a 1D list of integers.\n",
    "\n",
    "    Args:\n",
    "        masks (list[str]): list of stringified masks\n",
    "\n",
    "    Returns:\n",
    "        np.ndarray: reconstructed batch of masks\n",
    "    \"\"\"\n",
    "    return np.array(\n",
    "        [\n",
    "            np.fromstring(mask, sep=\" \", dtype=np.uint8).reshape(target_shape)\n",
    "            for mask in masks\n",
    "        ]\n",
    "    )\n",
    "\n",
    "\n",
    "def score(\n",
    "    solution: pd.DataFrame, submission: pd.DataFrame, row_id_column_name: str\n",
    ") -> float:\n",
    "    # Check submission files\n",
    "    COL_MASK = \"MASKS\"\n",
    "    expected_columns = [\"ID\", COL_MASK]\n",
    "    for col in expected_columns:\n",
    "        if col not in submission.columns:\n",
    "            raise ParticipantVisibleError(\n",
    "                f\"Required column: {col} not found in the submission dataframe. Check your column names.\"\n",
    "            )\n",
    "\n",
    "    if not pandas.api.types.is_string_dtype(submission[COL_MASK]):\n",
    "        raise ParticipantVisibleError(\n",
    "            f\"Submission column {col} must be an object (str) column\"\n",
    "        )\n",
    "\n",
    "    # Parse and decode the masks into tensors\n",
    "    masks_submission = decode_masks(submission[COL_MASK].to_list())\n",
    "    masks_solution = decode_masks(solution[COL_MASK].to_list())\n",
    "\n",
    "    masks_submission = torch.tensor(masks_submission, dtype=torch.int64)\n",
    "    masks_solution = torch.tensor(masks_solution, dtype=torch.int64)\n",
    "\n",
    "    # Compute metrics\n",
    "    NUM_CLASSES = 3\n",
    "    miou = MeanIoU(num_classes=NUM_CLASSES)\n",
    "\n",
    "    # Convert and return the tensor as a float\n",
    "    return miou(masks_submission, masks_solution).item()"
   ]
  },
  {
   "cell_type": "markdown",
   "metadata": {},
   "source": []
  }
 ],
 "metadata": {
  "kernelspec": {
   "display_name": "non-package-mode-ThK6kykJ-py3.12",
   "language": "python",
   "name": "python3"
  },
  "language_info": {
   "codemirror_mode": {
    "name": "ipython",
    "version": 3
   },
   "file_extension": ".py",
   "mimetype": "text/x-python",
   "name": "python",
   "nbconvert_exporter": "python",
   "pygments_lexer": "ipython3",
   "version": "3.12.6"
  },
  "toc": {
   "base_numbering": 1,
   "nav_menu": {},
   "number_sections": true,
   "sideBar": true,
   "skip_h1_title": false,
   "title_cell": "Table of Contents",
   "title_sidebar": "Contents",
   "toc_cell": false,
   "toc_position": {},
   "toc_section_display": true,
   "toc_window_display": false
  }
 },
 "nbformat": 4,
 "nbformat_minor": 4
}
