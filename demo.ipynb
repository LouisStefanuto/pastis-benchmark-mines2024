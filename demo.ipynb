{
 "cells": [
  {
   "cell_type": "markdown",
   "metadata": {},
   "source": [
    "This notebook shows how to load samples from PASTIS using the dataloaders provided in the repository.\n"
   ]
  },
  {
   "cell_type": "code",
   "execution_count": 37,
   "metadata": {},
   "outputs": [],
   "source": [
    "# Fill these file paths with the locations on your machine.\n",
    "PATH_TO_CODE = \"/Users/louis.stefanuto.c/Documents/pastis-benchmark-mines2024/src/\"  # path to the code folder of the repo\n",
    "PATH_TO_PASTIS = (\n",
    "    \"/Users/louis.stefanuto.c/Documents/pastis-benchmark-mines2024/PASTIS-mini/TRAIN\"\n",
    ")\n",
    "# PATH_TO_PASTISR = '/path/PASTIS-R'\n",
    "# PATH_TO_PASTISR_pixel = '/path/PASTIS-R_PixelSet/'\n",
    "\n",
    "\n",
    "import sys\n",
    "\n",
    "sys.path.append(PATH_TO_CODE)\n",
    "\n",
    "\n",
    "import torch\n",
    "import numpy as np\n",
    "import matplotlib.pyplot as plt\n",
    "from matplotlib.colors import ListedColormap\n",
    "import matplotlib\n",
    "\n",
    "cm = matplotlib.colormaps.get_cmap(\"tab20\")\n",
    "def_colors = cm.colors\n",
    "cus_colors = [\"k\"] + [def_colors[i] for i in range(1, 20)] + [\"w\"]\n",
    "cmap = ListedColormap(colors=cus_colors, name=\"agri\", N=21)\n",
    "\n",
    "\n",
    "def get_rgb(x, batch_index=0, t_show=1):\n",
    "    \"\"\"Utility function to get a displayable rgb image\n",
    "    from a Sentinel-2 time series.\n",
    "    \"\"\"\n",
    "    im = x[\"S2\"][batch_index, t_show, [2, 1, 0]].cpu().numpy()\n",
    "    mx = im.max(axis=(1, 2))\n",
    "    mi = im.min(axis=(1, 2))\n",
    "    im = (im - mi[:, None, None]) / (mx - mi)[:, None, None]\n",
    "    im = im.swapaxes(0, 2).swapaxes(0, 1)\n",
    "    im = np.clip(im, a_max=1, a_min=0)\n",
    "    return im\n",
    "\n",
    "\n",
    "def get_radar(x, batch_index=0, t_show=6, orbit=\"D\"):\n",
    "    \"\"\"Utility function to get a displayable image\n",
    "    from a Sentinel-1 time series.\n",
    "    \"\"\"\n",
    "    im = x[\"S1{}\".format(orbit)][batch_index, t_show].cpu().numpy()\n",
    "    mx = im.max(axis=(1, 2))\n",
    "    mi = im.min(axis=(1, 2))\n",
    "    im = (im - mi[:, None, None]) / (mx - mi)[:, None, None]\n",
    "    im = im.swapaxes(0, 2).swapaxes(0, 1)\n",
    "    im = np.clip(im, a_max=1, a_min=0)\n",
    "    return im"
   ]
  },
  {
   "cell_type": "markdown",
   "metadata": {},
   "source": [
    "# Custom Dataloader\n"
   ]
  },
  {
   "cell_type": "code",
   "execution_count": null,
   "metadata": {},
   "outputs": [],
   "source": [
    "from baseline_dataset import BaselineDataset\n",
    "from collate import pad_collate\n",
    "\n",
    "dt = BaselineDataset(PATH_TO_PASTIS)\n",
    "\n",
    "dl = torch.utils.data.DataLoader(\n",
    "    dt, batch_size=32, collate_fn=pad_collate, shuffle=True\n",
    ")"
   ]
  },
  {
   "cell_type": "code",
   "execution_count": 45,
   "metadata": {},
   "outputs": [],
   "source": [
    "x, y = dl.__iter__().__next__()"
   ]
  },
  {
   "cell_type": "code",
   "execution_count": null,
   "metadata": {},
   "outputs": [],
   "source": [
    "print(x[\"S2\"].shape)\n",
    "print(y.shape)"
   ]
  },
  {
   "cell_type": "code",
   "execution_count": null,
   "metadata": {},
   "outputs": [],
   "source": [
    "bid = 0  # Which element of the batch to plot\n",
    "\n",
    "fix, axes = plt.subplots(1, 2, figsize=(20, 20))\n",
    "\n",
    "axes[0].imshow(get_rgb(x, batch_index=bid))\n",
    "axes[1].imshow(y[bid].squeeze(), cmap=cmap, vmin=0, vmax=20)\n",
    "\n",
    "axes[0].set_title(\"One S2 observation.\")\n",
    "axes[1].set_title(\"Semantic labels.\")\n",
    "\n",
    "plt.show()"
   ]
  },
  {
   "cell_type": "markdown",
   "metadata": {},
   "source": [
    "# Metrics"
   ]
  },
  {
   "cell_type": "code",
   "execution_count": null,
   "metadata": {},
   "outputs": [],
   "source": [
    "from torchmetrics.segmentation import MeanIoU\n",
    "\n",
    "NUM_CLASSES = 3\n",
    "\n",
    "# Create two randoms matrices, one for the preds, one for the targets\n",
    "preds = torch.randint(0, NUM_CLASSES - 1, (10, NUM_CLASSES, 128, 128))\n",
    "target = torch.randint(0, NUM_CLASSES - 1, (10, NUM_CLASSES, 128, 128))\n",
    "\n",
    "miou = MeanIoU(num_classes=NUM_CLASSES)\n",
    "miou(preds, target)"
   ]
  },
  {
   "cell_type": "code",
   "execution_count": null,
   "metadata": {},
   "outputs": [],
   "source": []
  }
 ],
 "metadata": {
  "kernelspec": {
   "display_name": ".venv",
   "language": "python",
   "name": "python3"
  },
  "language_info": {
   "codemirror_mode": {
    "name": "ipython",
    "version": 3
   },
   "file_extension": ".py",
   "mimetype": "text/x-python",
   "name": "python",
   "nbconvert_exporter": "python",
   "pygments_lexer": "ipython3",
   "version": "3.12.4"
  },
  "toc": {
   "base_numbering": 1,
   "nav_menu": {},
   "number_sections": true,
   "sideBar": true,
   "skip_h1_title": false,
   "title_cell": "Table of Contents",
   "title_sidebar": "Contents",
   "toc_cell": false,
   "toc_position": {},
   "toc_section_display": true,
   "toc_window_display": false
  }
 },
 "nbformat": 4,
 "nbformat_minor": 4
}
