{
 "cells": [
  {
   "cell_type": "markdown",
   "metadata": {},
   "source": [
    "# Starter pack\n",
    "\n",
    "This notebook shows:\n",
    "\n",
    "- how to load samples from PASTIS using the dataloaders provided in the repository.\n",
    "- how to visualize the images\n",
    "- compute the challenge metric\n",
    "- make a random submission\n",
    "- explain how your submissions will be processed automatically\n"
   ]
  },
  {
   "cell_type": "code",
   "execution_count": 1,
   "metadata": {},
   "outputs": [],
   "source": [
    "# Fill these file paths with the locations on your machine.\n",
    "# PATH_TO_CODE = \"/Users/louis.stefanuto.c/Documents/pastis-benchmark-mines2024/baseline/\"\n",
    "PATH_TO_DATA = \"/Users/louis.stefanuto.c/Documents/pastis-benchmark-mines2024/TRAIN\""
   ]
  },
  {
   "cell_type": "markdown",
   "metadata": {},
   "source": [
    "The data folder should have this hierarchy:\n",
    "\n",
    "```\n",
    ".\n",
    "├── TRAIN/\n",
    "│   ├── DATA_S2/\n",
    "│   │   ├── S2_10000.npy\n",
    "│   │   ├── S2_10001.npy\n",
    "│   │   ├── S2_10002.npy\n",
    "│   │   └── ...\n",
    "│   ├── ANNOTATIONS/\n",
    "│   │   ├── TARGET_10000.npy\n",
    "│   │   ├── TARGET_10001.npy\n",
    "│   │   ├── TARGET_10002.npy\n",
    "│   │   └── ...\n",
    "│   └── metadata.json\n",
    "└── TEST/\n",
    "    ├── DATA_S2\n",
    "    │   └── ...\n",
    "    └── metadata.json\n",
    "```\n"
   ]
  },
  {
   "cell_type": "markdown",
   "metadata": {},
   "source": [
    "# GeoJson\n"
   ]
  },
  {
   "cell_type": "markdown",
   "metadata": {},
   "source": [
    "The geojson file contains all the metadata about the patch sequences (id, dates of the sentinel 2 images, geometry of the parcels ...)\n",
    "\n",
    "- ID: unique id of the patch\n",
    "- N_Parcel: nb of parcels in the patch\n",
    "- Parcel_Cover: % of the patch covered by land\n",
    "- region: the patches are sampled from various regions, we added this information if you want to apply region-based normalization/transformations ...\n",
    "- dates-S2: dates of the images in the sequence for this patch\n",
    "- geometry: multipolygon shape telling where the parcels are\n"
   ]
  },
  {
   "cell_type": "code",
   "execution_count": 2,
   "metadata": {},
   "outputs": [
    {
     "data": {
      "text/html": [
       "<div>\n",
       "<style scoped>\n",
       "    .dataframe tbody tr th:only-of-type {\n",
       "        vertical-align: middle;\n",
       "    }\n",
       "\n",
       "    .dataframe tbody tr th {\n",
       "        vertical-align: top;\n",
       "    }\n",
       "\n",
       "    .dataframe thead th {\n",
       "        text-align: right;\n",
       "    }\n",
       "</style>\n",
       "<table border=\"1\" class=\"dataframe\">\n",
       "  <thead>\n",
       "    <tr style=\"text-align: right;\">\n",
       "      <th></th>\n",
       "      <th>ID</th>\n",
       "      <th>region</th>\n",
       "      <th>N_Parcel</th>\n",
       "      <th>Parcel_Cover</th>\n",
       "      <th>dates-S2</th>\n",
       "      <th>geometry</th>\n",
       "    </tr>\n",
       "  </thead>\n",
       "  <tbody>\n",
       "    <tr>\n",
       "      <th>0</th>\n",
       "      <td>10000</td>\n",
       "      <td>0</td>\n",
       "      <td>119</td>\n",
       "      <td>0.808032</td>\n",
       "      <td>{'0': 20180924, '1': 20180929, '2': 20181004, ...</td>\n",
       "      <td>MULTIPOLYGON (((391504.736 6956805.915, 392781...</td>\n",
       "    </tr>\n",
       "    <tr>\n",
       "      <th>1</th>\n",
       "      <td>10001</td>\n",
       "      <td>0</td>\n",
       "      <td>111</td>\n",
       "      <td>0.501986</td>\n",
       "      <td>{'0': 20180924, '1': 20180929, '2': 20181004, ...</td>\n",
       "      <td>MULTIPOLYGON (((367628.562 6880296.822, 368905...</td>\n",
       "    </tr>\n",
       "    <tr>\n",
       "      <th>2</th>\n",
       "      <td>10002</td>\n",
       "      <td>0</td>\n",
       "      <td>131</td>\n",
       "      <td>0.638722</td>\n",
       "      <td>{'0': 20180924, '1': 20180929, '2': 20181004, ...</td>\n",
       "      <td>MULTIPOLYGON (((388950.375 6957003.181, 390227...</td>\n",
       "    </tr>\n",
       "    <tr>\n",
       "      <th>3</th>\n",
       "      <td>10003</td>\n",
       "      <td>0</td>\n",
       "      <td>75</td>\n",
       "      <td>0.866824</td>\n",
       "      <td>{'0': 20180924, '1': 20180929, '2': 20181004, ...</td>\n",
       "      <td>MULTIPOLYGON (((455228.326 6917189.740, 456504...</td>\n",
       "    </tr>\n",
       "    <tr>\n",
       "      <th>4</th>\n",
       "      <td>10004</td>\n",
       "      <td>0</td>\n",
       "      <td>46</td>\n",
       "      <td>0.204906</td>\n",
       "      <td>{'0': 20180924, '1': 20180929, '2': 20181004, ...</td>\n",
       "      <td>MULTIPOLYGON (((364779.509 6910052.243, 366056...</td>\n",
       "    </tr>\n",
       "    <tr>\n",
       "      <th>...</th>\n",
       "      <td>...</td>\n",
       "      <td>...</td>\n",
       "      <td>...</td>\n",
       "      <td>...</td>\n",
       "      <td>...</td>\n",
       "      <td>...</td>\n",
       "    </tr>\n",
       "    <tr>\n",
       "      <th>1954</th>\n",
       "      <td>11954</td>\n",
       "      <td>3</td>\n",
       "      <td>412</td>\n",
       "      <td>0.593129</td>\n",
       "      <td>{'0': 20180917, '1': 20180922, '2': 20180927, ...</td>\n",
       "      <td>MULTIPOLYGON (((1025974.352 6842342.142, 10272...</td>\n",
       "    </tr>\n",
       "    <tr>\n",
       "      <th>1955</th>\n",
       "      <td>11955</td>\n",
       "      <td>3</td>\n",
       "      <td>120</td>\n",
       "      <td>0.802946</td>\n",
       "      <td>{'0': 20180917, '1': 20180922, '2': 20180927, ...</td>\n",
       "      <td>MULTIPOLYGON (((1036872.407 6850881.525, 10381...</td>\n",
       "    </tr>\n",
       "    <tr>\n",
       "      <th>1956</th>\n",
       "      <td>11956</td>\n",
       "      <td>3</td>\n",
       "      <td>33</td>\n",
       "      <td>0.783991</td>\n",
       "      <td>{'0': 20180917, '1': 20180922, '2': 20180927, ...</td>\n",
       "      <td>MULTIPOLYGON (((977680.878 6836058.796, 978956...</td>\n",
       "    </tr>\n",
       "    <tr>\n",
       "      <th>1957</th>\n",
       "      <td>11957</td>\n",
       "      <td>3</td>\n",
       "      <td>24</td>\n",
       "      <td>0.129896</td>\n",
       "      <td>{'0': 20180917, '1': 20180922, '2': 20180927, ...</td>\n",
       "      <td>MULTIPOLYGON (((1018204.400 6759608.309, 10194...</td>\n",
       "    </tr>\n",
       "    <tr>\n",
       "      <th>1958</th>\n",
       "      <td>11958</td>\n",
       "      <td>3</td>\n",
       "      <td>3</td>\n",
       "      <td>0.030340</td>\n",
       "      <td>{'0': 20180917, '1': 20180922, '2': 20180927, ...</td>\n",
       "      <td>MULTIPOLYGON (((976405.422 6752553.554, 977680...</td>\n",
       "    </tr>\n",
       "  </tbody>\n",
       "</table>\n",
       "<p>1959 rows × 6 columns</p>\n",
       "</div>"
      ],
      "text/plain": [
       "         ID  region  N_Parcel  Parcel_Cover  \\\n",
       "0     10000       0       119      0.808032   \n",
       "1     10001       0       111      0.501986   \n",
       "2     10002       0       131      0.638722   \n",
       "3     10003       0        75      0.866824   \n",
       "4     10004       0        46      0.204906   \n",
       "...     ...     ...       ...           ...   \n",
       "1954  11954       3       412      0.593129   \n",
       "1955  11955       3       120      0.802946   \n",
       "1956  11956       3        33      0.783991   \n",
       "1957  11957       3        24      0.129896   \n",
       "1958  11958       3         3      0.030340   \n",
       "\n",
       "                                               dates-S2  \\\n",
       "0     {'0': 20180924, '1': 20180929, '2': 20181004, ...   \n",
       "1     {'0': 20180924, '1': 20180929, '2': 20181004, ...   \n",
       "2     {'0': 20180924, '1': 20180929, '2': 20181004, ...   \n",
       "3     {'0': 20180924, '1': 20180929, '2': 20181004, ...   \n",
       "4     {'0': 20180924, '1': 20180929, '2': 20181004, ...   \n",
       "...                                                 ...   \n",
       "1954  {'0': 20180917, '1': 20180922, '2': 20180927, ...   \n",
       "1955  {'0': 20180917, '1': 20180922, '2': 20180927, ...   \n",
       "1956  {'0': 20180917, '1': 20180922, '2': 20180927, ...   \n",
       "1957  {'0': 20180917, '1': 20180922, '2': 20180927, ...   \n",
       "1958  {'0': 20180917, '1': 20180922, '2': 20180927, ...   \n",
       "\n",
       "                                               geometry  \n",
       "0     MULTIPOLYGON (((391504.736 6956805.915, 392781...  \n",
       "1     MULTIPOLYGON (((367628.562 6880296.822, 368905...  \n",
       "2     MULTIPOLYGON (((388950.375 6957003.181, 390227...  \n",
       "3     MULTIPOLYGON (((455228.326 6917189.740, 456504...  \n",
       "4     MULTIPOLYGON (((364779.509 6910052.243, 366056...  \n",
       "...                                                 ...  \n",
       "1954  MULTIPOLYGON (((1025974.352 6842342.142, 10272...  \n",
       "1955  MULTIPOLYGON (((1036872.407 6850881.525, 10381...  \n",
       "1956  MULTIPOLYGON (((977680.878 6836058.796, 978956...  \n",
       "1957  MULTIPOLYGON (((1018204.400 6759608.309, 10194...  \n",
       "1958  MULTIPOLYGON (((976405.422 6752553.554, 977680...  \n",
       "\n",
       "[1959 rows x 6 columns]"
      ]
     },
     "execution_count": 2,
     "metadata": {},
     "output_type": "execute_result"
    }
   ],
   "source": [
    "from pathlib import Path\n",
    "import geopandas as gpd\n",
    "\n",
    "METADATA = Path(PATH_TO_DATA) / \"metadata.geojson\"\n",
    "\n",
    "mtd = gpd.read_file(METADATA)\n",
    "mtd"
   ]
  },
  {
   "cell_type": "markdown",
   "metadata": {},
   "source": [
    "## Sentinel images - Loading and viz\n"
   ]
  },
  {
   "cell_type": "code",
   "execution_count": 5,
   "metadata": {},
   "outputs": [],
   "source": [
    "import torch\n",
    "import numpy as np\n",
    "import matplotlib.pyplot as plt\n",
    "from matplotlib.colors import ListedColormap\n",
    "import matplotlib\n",
    "import pandas as pd\n",
    "\n",
    "\n",
    "cm = matplotlib.colormaps.get_cmap(\"tab20\")\n",
    "def_colors = cm.colors\n",
    "cus_colors = [\"k\"] + [def_colors[i] for i in range(1, 20)] + [\"w\"]\n",
    "cmap = ListedColormap(colors=cus_colors, name=\"agri\", N=21)\n",
    "\n",
    "\n",
    "def get_rgb(x, batch_index=0, t_show=1):\n",
    "    \"\"\"\n",
    "    Utility function to get a displayable rgb image\n",
    "    from a Sentinel-2 time series.\n",
    "    \"\"\"\n",
    "    im = x[\"S2\"][batch_index, t_show, [2, 1, 0]].cpu().numpy()\n",
    "    mx = im.max(axis=(1, 2))\n",
    "    mi = im.min(axis=(1, 2))\n",
    "    im = (im - mi[:, None, None]) / (mx - mi)[:, None, None]\n",
    "    im = im.swapaxes(0, 2).swapaxes(0, 1)\n",
    "    im = np.clip(im, a_max=1, a_min=0)\n",
    "    return im"
   ]
  },
  {
   "cell_type": "code",
   "execution_count": 6,
   "metadata": {},
   "outputs": [
    {
     "name": "stdout",
     "output_type": "stream",
     "text": [
      "Reading patch metadata ...\n",
      "Done.\n",
      "Dataset ready.\n"
     ]
    }
   ],
   "source": [
    "from baseline.dataset import BaselineDataset\n",
    "from baseline.collate import pad_collate\n",
    "\n",
    "# Set seeds for PyTorch and numpy\n",
    "torch.manual_seed(1234)\n",
    "np.random.seed(1234)\n",
    "\n",
    "dt = BaselineDataset(PATH_TO_DATA)\n",
    "\n",
    "dl = torch.utils.data.DataLoader(\n",
    "    dt, batch_size=32, collate_fn=pad_collate, shuffle=True\n",
    ")"
   ]
  },
  {
   "cell_type": "markdown",
   "metadata": {},
   "source": [
    "Let's query a batch from the dataloader:\n"
   ]
  },
  {
   "cell_type": "code",
   "execution_count": 8,
   "metadata": {},
   "outputs": [],
   "source": [
    "x, y = dl.__iter__().__next__()"
   ]
  },
  {
   "cell_type": "markdown",
   "metadata": {},
   "source": [
    "Each batch is made of:\n",
    "\n",
    "- an **image tensor** of shape $(B, T, C, H, W)$, where:\n",
    "  - $B$ is the batch size\n",
    "  - $T$ is the temporal length of the image time series\n",
    "  - $(C, H, W)$ is the dimension of the patches, channel first\n",
    "- a **label tensor** of shape $(B, H, W)$, the semantic segmentation ground truth mask.\n"
   ]
  },
  {
   "cell_type": "code",
   "execution_count": 9,
   "metadata": {},
   "outputs": [
    {
     "name": "stdout",
     "output_type": "stream",
     "text": [
      "torch.Size([32, 61, 10, 128, 128])\n",
      "torch.Size([32, 128, 128])\n"
     ]
    }
   ],
   "source": [
    "print(x[\"S2\"].shape)\n",
    "print(y.shape)"
   ]
  },
  {
   "cell_type": "code",
   "execution_count": 10,
   "metadata": {},
   "outputs": [
    {
     "data": {
      "image/png": "[encoded data removed]",
      "text/plain": [
       "<Figure size 2000x2000 with 2 Axes>"
      ]
     },
     "metadata": {},
     "output_type": "display_data"
    }
   ],
   "source": [
    "bid = 0  # Which patch of the batch to plot, in [0, BATCHSIZE-1]\n",
    "\n",
    "fix, axes = plt.subplots(1, 2, figsize=(20, 20))\n",
    "\n",
    "axes[0].imshow(get_rgb(x, batch_index=bid))\n",
    "axes[1].imshow(y[bid].squeeze(), cmap=cmap, vmin=0, vmax=20)\n",
    "\n",
    "axes[0].set_title(\"One S2 observation.\")\n",
    "axes[1].set_title(\"Semantic labels.\")\n",
    "\n",
    "plt.show()"
   ]
  },
  {
   "cell_type": "markdown",
   "metadata": {},
   "source": [
    "## Metrics\n",
    "\n",
    "The challenge metric is the mean Intersection over Union.\n",
    "\n",
    "- For each class, compute the binary IoU\n",
    "- Average the IoUs (`average=\"macro\"`)\n",
    "\n",
    "We use the sklearn `jaccard_score` function for all the evaluation tasks (see later).\n"
   ]
  },
  {
   "cell_type": "code",
   "execution_count": 14,
   "metadata": {},
   "outputs": [
    {
     "name": "stdout",
     "output_type": "stream",
     "text": [
      "miou: 0.015287044536859418\n"
     ]
    }
   ],
   "source": [
    "from sklearn.metrics import jaccard_score\n",
    "\n",
    "NUM_CLASSES = 20\n",
    "BATCH_SHAPE = (32, 128, 128)\n",
    "\n",
    "np.random.seed(1234)  # for replicable results\n",
    "\n",
    "# Create two randoms matrices, one for the preds, one for the targets\n",
    "preds = np.random.randint(low=0, high=NUM_CLASSES, size=BATCH_SHAPE)\n",
    "\n",
    "miou = jaccard_score(y.flatten(), preds.flatten(), average=\"macro\")\n",
    "print(\"miou:\", miou)"
   ]
  },
  {
   "cell_type": "markdown",
   "metadata": {},
   "source": [
    "## Submission\n",
    "\n",
    "This section shows you how to submit predictions on Kaggle.\n",
    "\n",
    "Your submission must be in the CSV format. It should have two columns:\n",
    "\n",
    "- **ID**: the ID of the image\n",
    "- **MASKS**: contains the 1D-flattened string conversion of the 2D segmentation masks\n",
    "\n",
    "To generate the `MASKS` column, we provide you a `masks_to_str` function. We also provide the decoding script so you have a plain understanding of how we will process your submission.\n"
   ]
  },
  {
   "cell_type": "code",
   "execution_count": 15,
   "metadata": {},
   "outputs": [],
   "source": [
    "from baseline.submission_tools import decode_masks, masks_to_str"
   ]
  },
  {
   "cell_type": "markdown",
   "metadata": {},
   "source": [
    "- Generate a random submission (and solution)\n",
    "\n",
    "> Note: 474 is the size of the test set\n"
   ]
  },
  {
   "cell_type": "code",
   "execution_count": 16,
   "metadata": {},
   "outputs": [
    {
     "name": "stdout",
     "output_type": "stream",
     "text": [
      "(474, 128, 128)\n"
     ]
    }
   ],
   "source": [
    "# Set the random seed\n",
    "np.random.seed(1234)\n",
    "\n",
    "X = np.random.randint(0, NUM_CLASSES, size=(474, 128, 128), dtype=np.uint8)\n",
    "masks = masks_to_str(X)\n",
    "print(X.shape)\n",
    "\n",
    "submission = pd.DataFrame.from_dict({\"ID\": range(len(X)), \"MASKS\": masks})\n",
    "submission[\"ID\"] = submission[\"ID\"] + 20000\n",
    "\n",
    "# Note that the index=False argument is important.\n",
    "submission.to_csv(\"submission_random.csv\", index=False)"
   ]
  },
  {
   "cell_type": "markdown",
   "metadata": {},
   "source": [
    "Finally, note that the test set is splitted into two subsets: a public set (50%) and a private set (50%).\n",
    "\n",
    "During the competition, your scores will be computed **only on the public score**.\n",
    "\n",
    "At the end of the competition, your scores will be updated to take with your score on the private set into account. The goal is to avoid indirect overfitting on the test set via repeated submissions. This will also add some suspense at the end of the challenge 😇.\n"
   ]
  },
  {
   "cell_type": "markdown",
   "metadata": {},
   "source": [
    "## Evaluation pipeline\n",
    "\n",
    "(Useless for predictions but may be useful if you have issues when submitting)\n",
    "\n",
    "Here is a short review of how our automated pipeline evaluates your predictions against the test ground truths:\n"
   ]
  },
  {
   "cell_type": "code",
   "execution_count": 17,
   "metadata": {},
   "outputs": [
    {
     "name": "stdout",
     "output_type": "stream",
     "text": [
      "(474, 128, 128)\n"
     ]
    }
   ],
   "source": [
    "df = pd.read_csv(\"submission_random.csv\")\n",
    "\n",
    "# Verify the shape of the restored array\n",
    "X_restored = decode_masks(df[\"MASKS\"].to_list())\n",
    "print(X_restored.shape)"
   ]
  },
  {
   "cell_type": "markdown",
   "metadata": {},
   "source": [
    "Let's check that the restored submission batch is the same as the one you submitted.\n"
   ]
  },
  {
   "cell_type": "code",
   "execution_count": 18,
   "metadata": {},
   "outputs": [
    {
     "data": {
      "text/plain": [
       "True"
      ]
     },
     "execution_count": 18,
     "metadata": {},
     "output_type": "execute_result"
    }
   ],
   "source": [
    "# Reconstruction test - Should be True\n",
    "(X == X_restored).all()"
   ]
  },
  {
   "cell_type": "markdown",
   "metadata": {},
   "source": [
    "Let's compute the mIOU between the original prediction batch tensor and its restored version.\n",
    "\n",
    "If everything went well, the cell should return `1.0`.\n"
   ]
  },
  {
   "cell_type": "code",
   "execution_count": 19,
   "metadata": {},
   "outputs": [
    {
     "name": "stdout",
     "output_type": "stream",
     "text": [
      "miou: 1.0\n"
     ]
    }
   ],
   "source": [
    "miou = jaccard_score(X.flatten(), X_restored.flatten(), average=\"macro\")\n",
    "print(\"miou:\", miou)"
   ]
  },
  {
   "cell_type": "markdown",
   "metadata": {},
   "source": [
    "Finally, here is the evaluation pipeline in Kaggle. It incorporates all the aforementioned elements. Note that Kaggle opens your CSV with Pandas before the `score` function. It expects the `ID` column to be the first one of your CSV.\n"
   ]
  },
  {
   "cell_type": "code",
   "execution_count": 28,
   "metadata": {},
   "outputs": [],
   "source": [
    "\"\"\"\n",
    "TODO: Enter any documentation that only people updating the metric should read here.\n",
    "\n",
    "All columns of the solution and submission dataframes are passed to your metric, except for the Usage column.\n",
    "\n",
    "Your metric must satisfy the following constraints:\n",
    "- You must have a function named score. Kaggle's evaluation system will call that function.\n",
    "- You can add your own arguments to score, but you cannot change the first three (solution, submission, and row_id_column_name).\n",
    "- All arguments for score must have type annotations.\n",
    "- score must return a single, finite, non-null float.\n",
    "\"\"\"\n",
    "\n",
    "import numpy as np\n",
    "import pandas as pd\n",
    "import pandas.api.types\n",
    "from sklearn.metrics import jaccard_score\n",
    "\n",
    "\n",
    "class ParticipantVisibleError(Exception):\n",
    "    # If you want an error message to be shown to participants, you must raise the error as a ParticipantVisibleError\n",
    "    # All other errors will only be shown to the competition host. This helps prevent unintentional leakage of solution data.\n",
    "    pass\n",
    "\n",
    "\n",
    "def decode_masks(\n",
    "    masks: list[str],\n",
    "    target_shape: tuple[int, int] = (128, 128),\n",
    ") -> np.ndarray:\n",
    "    \"\"\"\n",
    "    Convert each string in masks back to a 1D list of integers.\n",
    "\n",
    "    Args:\n",
    "        masks (list[str]): list of stringified masks\n",
    "\n",
    "    Returns:\n",
    "        np.ndarray: reconstructed batch of masks\n",
    "    \"\"\"\n",
    "    return np.array(\n",
    "        [\n",
    "            np.fromstring(mask, sep=\" \", dtype=np.uint8).reshape(target_shape)\n",
    "            for mask in masks\n",
    "        ]\n",
    "    )\n",
    "\n",
    "\n",
    "def score(\n",
    "    solution: pd.DataFrame, submission: pd.DataFrame, row_id_column_name: str\n",
    ") -> float:\n",
    "    \"\"\"\n",
    "    Scoring function. Takes the solution and submission and returns the mIOU.\n",
    "    \"\"\"\n",
    "    # Check submission files\n",
    "    COL_MASK = \"MASKS\"\n",
    "    expected_columns = [\"ID\", COL_MASK]\n",
    "    for col in expected_columns:\n",
    "        if col not in submission.columns:\n",
    "            raise ParticipantVisibleError(\n",
    "                f\"Required column: {col} not found in the submission dataframe. Check your column names.\"\n",
    "            )\n",
    "\n",
    "    if not pandas.api.types.is_string_dtype(submission[COL_MASK]):\n",
    "        raise ParticipantVisibleError(\n",
    "            f\"Submission column {col} must be an object (str) column.\"\n",
    "        )\n",
    "\n",
    "    # Parse and decode the masks into tensors\n",
    "    masks_submission = decode_masks(submission[COL_MASK].to_list())\n",
    "    masks_solution = decode_masks(solution[COL_MASK].to_list())\n",
    "\n",
    "    if not masks_submission.shape == masks_solution.shape:\n",
    "        raise ParticipantVisibleError(\n",
    "            f\"Submission should be of shape {masks_solution.shape} after decoding. Got submission.shape: {masks_submission.shape}.\"\n",
    "        )\n",
    "\n",
    "    return jaccard_score(\n",
    "        y_true=masks_solution.flatten(),\n",
    "        y_pred=masks_submission.flatten(),\n",
    "        average=\"macro\",\n",
    "    )"
   ]
  },
  {
   "cell_type": "code",
   "execution_count": null,
   "metadata": {},
   "outputs": [],
   "source": []
  }
 ],
 "metadata": {
  "kernelspec": {
   "display_name": "baseline-ThK6kykJ-py3.12",
   "language": "python",
   "name": "python3"
  },
  "language_info": {
   "codemirror_mode": {
    "name": "ipython",
    "version": 3
   },
   "file_extension": ".py",
   "mimetype": "text/x-python",
   "name": "python",
   "nbconvert_exporter": "python",
   "pygments_lexer": "ipython3",
   "version": "3.12.6"
  },
  "toc": {
   "base_numbering": 1,
   "nav_menu": {},
   "number_sections": true,
   "sideBar": true,
   "skip_h1_title": false,
   "title_cell": "Table of Contents",
   "title_sidebar": "Contents",
   "toc_cell": false,
   "toc_position": {},
   "toc_section_display": true,
   "toc_window_display": false
  }
 },
 "nbformat": 4,
 "nbformat_minor": 4
}
