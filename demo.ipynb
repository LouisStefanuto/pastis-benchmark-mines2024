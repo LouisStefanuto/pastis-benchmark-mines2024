{
 "cells": [
  {
   "cell_type": "markdown",
   "metadata": {},
   "source": [
    "This notebook shows how to load samples from PASTIS using the dataloaders provided in the repository.\n"
   ]
  },
  {
   "cell_type": "code",
   "execution_count": null,
   "metadata": {},
   "outputs": [],
   "source": [
    "# Fill these file paths with the locations on your machine.\n",
    "PATH_TO_CODE = \"/Users/lstefanu/Documents/mines/pastis-benchmark/code/\"  # path to the code folder of the repo\n",
    "PATH_TO_PASTIS = \"/Users/lstefanu/Documents/mines/pastis-benchmark/PASTIS/\"\n",
    "# PATH_TO_PASTISR = '/path/PASTIS-R'\n",
    "# PATH_TO_PASTISR_pixel = '/path/PASTIS-R_PixelSet/'\n",
    "\n",
    "\n",
    "import sys\n",
    "\n",
    "sys.path.append(PATH_TO_CODE)\n",
    "\n",
    "\n",
    "import torch\n",
    "import numpy as np\n",
    "import matplotlib.pyplot as plt\n",
    "from matplotlib.colors import ListedColormap\n",
    "import matplotlib\n",
    "\n",
    "cm = matplotlib.colormaps.get_cmap(\"tab20\")\n",
    "def_colors = cm.colors\n",
    "cus_colors = [\"k\"] + [def_colors[i] for i in range(1, 20)] + [\"w\"]\n",
    "cmap = ListedColormap(colors=cus_colors, name=\"agri\", N=21)\n",
    "\n",
    "\n",
    "def get_rgb(x, batch_index=0, t_show=1):\n",
    "    \"\"\"Utility function to get a displayable rgb image\n",
    "    from a Sentinel-2 time series.\n",
    "    \"\"\"\n",
    "    im = x[\"S2\"][batch_index, t_show, [2, 1, 0]].cpu().numpy()\n",
    "    mx = im.max(axis=(1, 2))\n",
    "    mi = im.min(axis=(1, 2))\n",
    "    im = (im - mi[:, None, None]) / (mx - mi)[:, None, None]\n",
    "    im = im.swapaxes(0, 2).swapaxes(0, 1)\n",
    "    im = np.clip(im, a_max=1, a_min=0)\n",
    "    return im\n",
    "\n",
    "\n",
    "def get_radar(x, batch_index=0, t_show=6, orbit=\"D\"):\n",
    "    \"\"\"Utility function to get a displayable image\n",
    "    from a Sentinel-1 time series.\n",
    "    \"\"\"\n",
    "    im = x[\"S1{}\".format(orbit)][batch_index, t_show].cpu().numpy()\n",
    "    mx = im.max(axis=(1, 2))\n",
    "    mi = im.min(axis=(1, 2))\n",
    "    im = (im - mi[:, None, None]) / (mx - mi)[:, None, None]\n",
    "    im = im.swapaxes(0, 2).swapaxes(0, 1)\n",
    "    im = np.clip(im, a_max=1, a_min=0)\n",
    "    return im"
   ]
  },
  {
   "cell_type": "markdown",
   "metadata": {},
   "source": [
    "# PASTIS\n"
   ]
  },
  {
   "cell_type": "code",
   "execution_count": null,
   "metadata": {},
   "outputs": [],
   "source": [
    "from dataloader import PASTIS_Dataset\n",
    "from collate import pad_collate\n",
    "\n",
    "dt = PASTIS_Dataset(PATH_TO_PASTIS, norm=True, target=\"instance\")\n",
    "# If you only need to evaluate semantic segmentation use target='semantic'\n",
    "\n",
    "dl = torch.utils.data.DataLoader(dt, batch_size=3, collate_fn=pad_collate, shuffle=True)"
   ]
  },
  {
   "cell_type": "code",
   "execution_count": null,
   "metadata": {},
   "outputs": [],
   "source": [
    "# Loading a batch from the dataloader\n",
    "(x, dates), y = dl.__iter__().__next__()\n",
    "\n",
    "# x is a dictionary thay contains the Sentinel-2 time series\n",
    "# in the 'S2' key, shape: B x T x C x H x W\n",
    "print(x[\"S2\"].shape)\n",
    "# dates contains the observation dates of each image, shape: B x T\n",
    "print(dates[\"S2\"].shape)\n",
    "# y contains the different ground truth annotations used for panoptic segmentation\n",
    "(\n",
    "    target_heatmap,\n",
    "    instance_ids,\n",
    "    pixel_to_instance_mapping,\n",
    "    instance_bbox_size,\n",
    "    object_semantic_annotation,\n",
    "    pixel_semantic_annotation,\n",
    ") = y.split((1, 1, 1, 2, 1, 1), dim=-1)"
   ]
  },
  {
   "cell_type": "code",
   "execution_count": null,
   "metadata": {},
   "outputs": [],
   "source": [
    "# Loading a batch from the dataloader\n",
    "(x, dates), y = dl.__iter__().__next__()"
   ]
  },
  {
   "cell_type": "code",
   "execution_count": null,
   "metadata": {},
   "outputs": [],
   "source": [
    "bid = 0  # Which element of the batch to plot\n",
    "\n",
    "fix, axes = plt.subplots(1, 4, figsize=(20, 20))\n",
    "\n",
    "axes[0].imshow(get_rgb(x, batch_index=bid))\n",
    "axes[1].imshow(target_heatmap[bid].squeeze())\n",
    "axes[2].imshow(instance_ids[bid].squeeze(), cmap=\"prism\", alpha=0.6)\n",
    "axes[3].imshow(pixel_semantic_annotation[bid].squeeze(), cmap=cmap, vmin=0, vmax=20)\n",
    "\n",
    "axes[0].set_title(\"One S2 observation.\")\n",
    "axes[1].set_title(\"Centerness Ground Truth.\")\n",
    "axes[2].set_title(\"Instance masks.\")\n",
    "axes[3].set_title(\"Semantic labels.\")\n",
    "\n",
    "plt.show()"
   ]
  },
  {
   "cell_type": "markdown",
   "metadata": {},
   "source": [
    "# Custom Dataloader\n"
   ]
  },
  {
   "cell_type": "code",
   "execution_count": null,
   "metadata": {},
   "outputs": [],
   "source": [
    "from baseline_dataset import BaselineDataset\n",
    "from collate import pad_collate\n",
    "\n",
    "dt = BaselineDataset(PATH_TO_PASTIS)\n",
    "\n",
    "dl = torch.utils.data.DataLoader(\n",
    "    dt, batch_size=32, collate_fn=pad_collate, shuffle=True\n",
    ")"
   ]
  },
  {
   "cell_type": "code",
   "execution_count": null,
   "metadata": {},
   "outputs": [],
   "source": [
    "x, y = dl.__iter__().__next__()"
   ]
  },
  {
   "cell_type": "code",
   "execution_count": null,
   "metadata": {},
   "outputs": [],
   "source": [
    "print(x[\"S2\"].shape)\n",
    "print(y.shape)"
   ]
  },
  {
   "cell_type": "code",
   "execution_count": null,
   "metadata": {},
   "outputs": [],
   "source": [
    "bid = 0  # Which element of the batch to plot\n",
    "\n",
    "fix, axes = plt.subplots(1, 2, figsize=(20, 20))\n",
    "\n",
    "axes[0].imshow(get_rgb(x, batch_index=bid))\n",
    "axes[1].imshow(y[bid].squeeze(), cmap=cmap, vmin=0, vmax=20)\n",
    "\n",
    "axes[0].set_title(\"One S2 observation.\")\n",
    "axes[1].set_title(\"Semantic labels.\")\n",
    "\n",
    "plt.show()"
   ]
  },
  {
   "cell_type": "markdown",
   "metadata": {},
   "source": [
    "# PASTIS-R\n"
   ]
  },
  {
   "cell_type": "code",
   "execution_count": null,
   "metadata": {},
   "outputs": [],
   "source": [
    "from dataloader import PASTIS_Dataset\n",
    "from collate import pad_collate\n",
    "\n",
    "dt = PASTIS_Dataset(\n",
    "    PATH_TO_PASTISR, norm=True, target=\"instance\", sats=[\"S2\", \"S1A\", \"S1D\"]\n",
    ")\n",
    "dl = torch.utils.data.DataLoader(dt, batch_size=2, collate_fn=pad_collate, shuffle=True)"
   ]
  },
  {
   "cell_type": "code",
   "execution_count": null,
   "metadata": {},
   "outputs": [],
   "source": [
    "# Loading a batch from the dataloader\n",
    "(x, dates), y = dl.__iter__().__next__()\n",
    "\n",
    "# When using PASTIS-R with the three modalities, x now contains\n",
    "# one key for each modality:\n",
    "print(\"S2 time series:\", x[\"S2\"].shape)\n",
    "print(\"S1A time series:\", x[\"S1A\"].shape)\n",
    "print(\"S1D time series:\", x[\"S1D\"].shape)\n",
    "\n",
    "\n",
    "(\n",
    "    target_heatmap,\n",
    "    instance_ids,\n",
    "    pixel_to_instance_mapping,\n",
    "    instance_bbox_size,\n",
    "    object_semantic_annotation,\n",
    "    pixel_semantic_annotation,\n",
    ") = y.split((1, 1, 1, 2, 1, 1), dim=-1)"
   ]
  },
  {
   "cell_type": "code",
   "execution_count": null,
   "metadata": {},
   "outputs": [],
   "source": [
    "bid = 0  # Which element of the batch to plot\n",
    "\n",
    "fix, axes = plt.subplots(2, 3, figsize=(20, 10))\n",
    "\n",
    "axes[0, 0].imshow(get_rgb(x, batch_index=bid))\n",
    "axes[0, 1].imshow(get_radar(x, batch_index=bid, orbit=\"A\"))\n",
    "axes[0, 2].imshow(get_radar(x, batch_index=bid, orbit=\"D\"))\n",
    "\n",
    "axes[1, 0].imshow(target_heatmap[bid].squeeze())\n",
    "axes[1, 1].imshow(instance_ids[bid].squeeze(), cmap=\"prism\", alpha=0.6)\n",
    "axes[1, 2].imshow(pixel_semantic_annotation[bid].squeeze(), cmap=cmap, vmin=0, vmax=20)\n",
    "\n",
    "axes[0, 0].set_title(\"One S2 observation.\")\n",
    "axes[0, 1].set_title(\"One S1A observation.\")\n",
    "axes[0, 2].set_title(\"One S1D observation.\")\n",
    "\n",
    "axes[1, 0].set_title(\"Centerness Ground Truth.\")\n",
    "axes[1, 1].set_title(\"Instance masks.\")\n",
    "axes[1, 2].set_title(\"Semantic labels.\")\n",
    "\n",
    "plt.show()"
   ]
  },
  {
   "cell_type": "markdown",
   "metadata": {},
   "source": [
    "# PASTIS-R Pixel-Set\n"
   ]
  },
  {
   "cell_type": "code",
   "execution_count": null,
   "metadata": {},
   "outputs": [],
   "source": [
    "from dataloader_pixelset import PASTIS_Dataset_PixelSet\n",
    "from collate import pad_collate\n",
    "\n",
    "dtp = PASTIS_Dataset_PixelSet(\n",
    "    PATH_TO_PASTISR_pixel, n_pixel=32, sats=[\"S2\", \"S1A\", \"S1D\"]\n",
    ")\n",
    "dlp = torch.utils.data.DataLoader(\n",
    "    dtp, batch_size=64, collate_fn=pad_collate, shuffle=True\n",
    ")"
   ]
  },
  {
   "cell_type": "code",
   "execution_count": null,
   "metadata": {},
   "outputs": [],
   "source": [
    "# Loading a batch from the dataloader\n",
    "batch = dlp.__iter__().__next__()\n",
    "\n",
    "# In this format the batches are loaded in the form of a single dictionary:\n",
    "# S2  : (X_s2, pixel_mask_s2) of shape B x T_s2 x C_s2 x n_pixel and B x n_pixel\n",
    "# S1A  : (X_s1a, pixel_mask_s1a) of shape B x T_s1a x C_s1a x n_pixel and B x n_pixel\n",
    "# S1D  : (X_s1d, pixel_mask_s1d) of shape B x T_s1d x C_s1d x n_pixel and B x n_pixel\n",
    "# dates-S2  : dates of S2 observations (shape B x T_s2)\n",
    "# dates-S1A  :  dates of S1A observations (shape B x T_s1a)\n",
    "# dates-S1D  :  dates of S1D observations (shape B x T_s1d)\n",
    "# label  : labels of the batch (shape Bx1)\n",
    "# geomfeat  : geometric features of the parcels (shape Bx4)"
   ]
  },
  {
   "cell_type": "code",
   "execution_count": null,
   "metadata": {},
   "outputs": [],
   "source": []
  }
 ],
 "metadata": {
  "kernelspec": {
   "display_name": ".venv",
   "language": "python",
   "name": "python3"
  },
  "language_info": {
   "codemirror_mode": {
    "name": "ipython",
    "version": 3
   },
   "file_extension": ".py",
   "mimetype": "text/x-python",
   "name": "python",
   "nbconvert_exporter": "python",
   "pygments_lexer": "ipython3",
   "version": "3.12.4"
  },
  "toc": {
   "base_numbering": 1,
   "nav_menu": {},
   "number_sections": true,
   "sideBar": true,
   "skip_h1_title": false,
   "title_cell": "Table of Contents",
   "title_sidebar": "Contents",
   "toc_cell": false,
   "toc_position": {},
   "toc_section_display": true,
   "toc_window_display": false
  }
 },
 "nbformat": 4,
 "nbformat_minor": 4
}
