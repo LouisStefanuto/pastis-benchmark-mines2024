{
 "cells": [
  {
   "cell_type": "markdown",
   "metadata": {},
   "source": [
    "**ORGANIZERS ONLY NOTEBOOK**\n",
    "\n",
    "- Paper dataset: https://openaccess.thecvf.com/content/ICCV2021/supplemental/Garnot_Panoptic_Segmentation_of_ICCV_2021_supplemental.pdf\n",
    "- Dataset: https://github.com/VSainteuf/pastis-benchmark/tree/main"
   ]
  },
  {
   "cell_type": "code",
   "execution_count": null,
   "metadata": {},
   "outputs": [],
   "source": [
    "from pathlib import Path\n",
    "\n",
    "import geopandas as gpd\n",
    "import numpy as np\n",
    "import pandas as pd"
   ]
  },
  {
   "cell_type": "code",
   "execution_count": null,
   "metadata": {},
   "outputs": [],
   "source": [
    "PATH_TO_PASTIS = \"./PASTIS/\"\n",
    "METADATA = Path(PATH_TO_PASTIS) / \"metadata.geojson\"\n",
    "\n",
    "mtd = gpd.read_file(METADATA)\n",
    "mtd"
   ]
  },
  {
   "cell_type": "markdown",
   "metadata": {},
   "source": [
    "# Split"
   ]
  },
  {
   "cell_type": "code",
   "execution_count": null,
   "metadata": {},
   "outputs": [],
   "source": [
    "TEST_FOLD_ID = 3\n",
    "\n",
    "FOLDER_DATA = Path(\"PASTIS\")\n",
    "FOLDER_TRAIN = Path(\"TRAIN\")\n",
    "FOLDER_TEST = Path(\"TEST\")\n",
    "\n",
    "S2_SOURCE = FOLDER_DATA / \"DATA_S2\"\n",
    "S2_TRAIN = FOLDER_TRAIN / \"DATA_S2\"\n",
    "S2_TEST = FOLDER_TEST / \"DATA_S2\"\n",
    "\n",
    "ANNOT_SOURCE = FOLDER_DATA / \"ANNOTATIONS\"\n",
    "ANNOT_TRAIN = FOLDER_TRAIN / \"ANNOTATIONS\"\n",
    "ANNOT_TEST = FOLDER_TEST / \"ANNOTATIONS\""
   ]
  },
  {
   "cell_type": "code",
   "execution_count": null,
   "metadata": {},
   "outputs": [],
   "source": [
    "# Split\n",
    "train_mtd = mtd[mtd[\"Fold\"] != TEST_FOLD_ID]\n",
    "test_mtd = mtd[mtd[\"Fold\"] == TEST_FOLD_ID]\n",
    "\n",
    "# Change indexing for images\n",
    "train_mtd.loc[:, \"ID\"] = range(len(train_mtd))\n",
    "test_mtd.loc[:, \"ID\"] = range(len(test_mtd))\n",
    "\n",
    "# Add an offset to avoid duplicates with train + more readable\n",
    "train_mtd.loc[:, \"ID\"] += 10000\n",
    "test_mtd.loc[:, \"ID\"] += 20000\n",
    "\n",
    "# Convert TILE to categorical to reduce information about the dataset\n",
    "# mapping = {\n",
    "#     \"t30uxv\": 0,\n",
    "#     \"t31tfj\": 1,\n",
    "#     \"t31tfm\": 2,\n",
    "#     \"t32ulu\": 3,\n",
    "# }\n",
    "# train_mtd[\"region\"] = train_mtd[\"TILE\"].map(mapping)\n",
    "# test_mtd[\"region\"] = test_mtd[\"TILE\"].map(mapping)\n",
    "\n",
    "# Export names\n",
    "train_old_names = train_mtd[\"ID_PATCH\"].to_list()\n",
    "test_old_names = test_mtd[\"ID_PATCH\"].to_list()\n",
    "train_new_names = train_mtd[\"ID\"].to_list()\n",
    "test_new_names = test_mtd[\"ID\"].to_list()\n",
    "\n",
    "display(train_mtd)\n",
    "display(test_mtd)"
   ]
  },
  {
   "cell_type": "markdown",
   "metadata": {},
   "source": [
    "- copy images"
   ]
  },
  {
   "cell_type": "code",
   "execution_count": null,
   "metadata": {},
   "outputs": [],
   "source": [
    "import shutil\n",
    "\n",
    "\n",
    "def copy_imgs(\n",
    "    indices_old: list[int],\n",
    "    indices_new: list[int],\n",
    "    source_folder: Path,\n",
    "    dest_folder: Path,\n",
    ") -> None:\n",
    "    dest_folder.mkdir(parents=True, exist_ok=True)\n",
    "\n",
    "    for i_old, i_new in zip(indices_old, indices_new):\n",
    "        source = source_folder / f\"S2_{i_old}.npy\"\n",
    "        destination = dest_folder / f\"S2_{i_new}.npy\"\n",
    "\n",
    "        # Copy the file from source to destination\n",
    "        shutil.copy(source, destination)\n",
    "\n",
    "\n",
    "def copy_labels(\n",
    "    indices_old: list[int],\n",
    "    indices_new: list[int],\n",
    "    source_folder: Path,\n",
    "    dest_folder: Path,\n",
    ") -> None:\n",
    "    dest_folder.mkdir(parents=True, exist_ok=True)\n",
    "\n",
    "    for i_old, i_new in zip(indices_old, indices_new):\n",
    "        source = source_folder / f\"TARGET_{i_old}.npy\"\n",
    "        destination = dest_folder / f\"TARGET_{i_new}.npy\"\n",
    "\n",
    "        # Copy the file from source to destination\n",
    "        shutil.copy(source, destination)"
   ]
  },
  {
   "cell_type": "code",
   "execution_count": null,
   "metadata": {},
   "outputs": [],
   "source": [
    "# # Copy train\n",
    "# copy_imgs(train_old_names, train_new_names, S2_SOURCE, S2_TRAIN)\n",
    "# copy_labels(train_old_names, train_new_names, ANNOT_SOURCE, ANNOT_TRAIN)\n",
    "\n",
    "# # Copy test\n",
    "# copy_imgs(test_old_names, test_new_names, S2_SOURCE, S2_TEST)\n",
    "# copy_labels(test_old_names, test_new_names, ANNOT_SOURCE, ANNOT_TEST)"
   ]
  },
  {
   "cell_type": "code",
   "execution_count": null,
   "metadata": {},
   "outputs": [],
   "source": [
    "COLS_TO_KEEP = [\"ID\", \"TILE\", \"N_Parcel\", \"Parcel_Cover\", \"dates-S2\", \"geometry\"]\n",
    "\n",
    "train_mtd = train_mtd[COLS_TO_KEEP]\n",
    "test_mtd = test_mtd[COLS_TO_KEEP]\n",
    "\n",
    "train_mtd.to_file(FOLDER_TRAIN / \"metadata.geojson\", driver=\"GeoJSON\")\n",
    "test_mtd.to_file(FOLDER_TEST / \"metadata.geojson\", driver=\"GeoJSON\")\n",
    "\n",
    "display(train_mtd)\n",
    "display(test_mtd)"
   ]
  },
  {
   "cell_type": "markdown",
   "metadata": {},
   "source": [
    "# Solution"
   ]
  },
  {
   "cell_type": "code",
   "execution_count": null,
   "metadata": {},
   "outputs": [],
   "source": [
    "test_labels = list(ANNOT_TEST.glob(\"*\"))\n",
    "test_labels = sorted(test_labels)\n",
    "test_labels"
   ]
  },
  {
   "cell_type": "code",
   "execution_count": null,
   "metadata": {},
   "outputs": [],
   "source": [
    "solution = np.array([np.load(label)[0] for label in test_labels])\n",
    "solution.shape"
   ]
  },
  {
   "cell_type": "code",
   "execution_count": null,
   "metadata": {},
   "outputs": [],
   "source": [
    "# Count pixels for each class\n",
    "unique_true, counts_true = np.unique(solution, return_counts=True)\n",
    "\n",
    "print(\"True Class Counts (%):\")\n",
    "for class_id, class_count in zip(unique_true, counts_true):\n",
    "    print(class_id, class_count, f\"({round(class_count / sum(counts_true) * 100, 1)}%)\")\n",
    "print(\"---\")\n",
    "print(f\"Total: {sum(counts_true)}\")"
   ]
  },
  {
   "cell_type": "code",
   "execution_count": null,
   "metadata": {},
   "outputs": [],
   "source": [
    "from baseline.submission_tools import masks_to_str\n",
    "\n",
    "solution_masks = masks_to_str(solution)\n",
    "\n",
    "N_TEST = len(solution)\n",
    "\n",
    "np.random.seed(1234)\n",
    "random_values = np.random.choice([0, 1], size=N_TEST)\n",
    "usages = [\"Private\" if value == 1 else \"Public\" for value in random_values]\n",
    "\n",
    "df_submission = pd.DataFrame.from_dict({\"ID\": test_mtd[\"ID\"], \"MASKS\": solution_masks})\n",
    "df_solution = pd.DataFrame.from_dict(\n",
    "    {\"ID\": test_mtd[\"ID\"], \"Usage\": usages, \"MASKS\": solution_masks}\n",
    ")\n",
    "\n",
    "# Note that the index=False argument is important.\n",
    "df_submission.to_csv(\"submission.csv\", index=False)\n",
    "df_solution.to_csv(\"solution.csv\", index=False)"
   ]
  },
  {
   "cell_type": "code",
   "execution_count": null,
   "metadata": {},
   "outputs": [],
   "source": []
  }
 ],
 "metadata": {
  "kernelspec": {
   "display_name": "baseline-ThK6kykJ-py3.12",
   "language": "python",
   "name": "python3"
  },
  "language_info": {
   "codemirror_mode": {
    "name": "ipython",
    "version": 3
   },
   "file_extension": ".py",
   "mimetype": "text/x-python",
   "name": "python",
   "nbconvert_exporter": "python",
   "pygments_lexer": "ipython3",
   "version": "3.12.6"
  }
 },
 "nbformat": 4,
 "nbformat_minor": 2
}
